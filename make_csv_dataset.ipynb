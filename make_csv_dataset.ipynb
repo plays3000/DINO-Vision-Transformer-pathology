{
 "cells": [
  {
   "cell_type": "code",
   "execution_count": 17,
   "metadata": {},
   "outputs": [],
   "source": [
    "import os\n",
    "import re\n",
    "import pandas as pd\n",
    "from sklearn.preprocessing import LabelEncoder\n",
    "from sklearn.model_selection import train_test_split"
   ]
  },
  {
   "cell_type": "code",
   "execution_count": 3,
   "metadata": {},
   "outputs": [],
   "source": [
    "path = 'data2'\n",
    "data = {\"imgpath\": [], 'labels':[]}\n",
    "category = os.listdir(path)\n",
    "for folder in category:\n",
    "    folderpath = os.path.join(path, folder)\n",
    "    filelist = os.listdir(folderpath)\n",
    "    for file in filelist:\n",
    "        fpath = os.path.join(folderpath, file)\n",
    "        data['imgpath'].append(fpath)\n",
    "        data['labels'].append(folder)\n",
    "        \n",
    "df = pd.DataFrame(data)\n",
    "\n",
    "# Convert labels to numbers\n",
    "lb = LabelEncoder()\n",
    "df['encoded_labels'] = lb.fit_transform(df['labels'])"
   ]
  },
  {
   "cell_type": "code",
   "execution_count": 28,
   "metadata": {},
   "outputs": [],
   "source": [
    "df1 = df.sample(frac = 1).reset_index(drop = True)\n",
    "\n",
    "train_df, temp_df = train_test_split(df, train_size = 0.8, random_state = 142)\n",
    "val_df, test_df = train_test_split(temp_df, train_size = 0.5, random_state = 142)\n",
    "train_df = train_df.reset_index(drop = True)\n",
    "val_df = val_df.reset_index(drop = True)\n",
    "test_df = test_df.reset_index(drop = True)"
   ]
  },
  {
   "cell_type": "code",
   "execution_count": 30,
   "metadata": {},
   "outputs": [],
   "source": [
    "train_df.to_csv('./train3_df.csv')\n",
    "val_df.to_csv('./val3_df.csv')\n",
    "test_df.to_csv('./test3_df.csv')"
   ]
  },
  {
   "cell_type": "code",
   "execution_count": 20,
   "metadata": {},
   "outputs": [],
   "source": [
    "path = './pretrain_2048_2'\n",
    "data = {\"imgpath\": [], 'labels':[]}\n",
    "category = \"pretrain\"\n",
    "filelist = os.listdir(path)\n",
    "for file in filelist:\n",
    "    fpath = os.path.join(path, file)\n",
    "    data['imgpath'].append(fpath)\n",
    "    data['labels'].append(category)\n",
    "        \n",
    "df = pd.DataFrame(data)\n",
    "\n",
    "# Convert labels to numbers\n",
    "lb = LabelEncoder()\n",
    "df['encoded_labels'] = lb.fit_transform(df['labels'])"
   ]
  },
  {
   "cell_type": "code",
   "execution_count": 21,
   "metadata": {},
   "outputs": [
    {
     "data": {
      "text/html": [
       "<div>\n",
       "<style scoped>\n",
       "    .dataframe tbody tr th:only-of-type {\n",
       "        vertical-align: middle;\n",
       "    }\n",
       "\n",
       "    .dataframe tbody tr th {\n",
       "        vertical-align: top;\n",
       "    }\n",
       "\n",
       "    .dataframe thead th {\n",
       "        text-align: right;\n",
       "    }\n",
       "</style>\n",
       "<table border=\"1\" class=\"dataframe\">\n",
       "  <thead>\n",
       "    <tr style=\"text-align: right;\">\n",
       "      <th></th>\n",
       "      <th>imgpath</th>\n",
       "      <th>labels</th>\n",
       "      <th>encoded_labels</th>\n",
       "    </tr>\n",
       "  </thead>\n",
       "  <tbody>\n",
       "    <tr>\n",
       "      <th>0</th>\n",
       "      <td>./pretrain_2048_2/SC-01-0163.svs_15.png</td>\n",
       "      <td>pretrain</td>\n",
       "      <td>0</td>\n",
       "    </tr>\n",
       "    <tr>\n",
       "      <th>1</th>\n",
       "      <td>./pretrain_2048_2/SC-01-0359.svs_8.png</td>\n",
       "      <td>pretrain</td>\n",
       "      <td>0</td>\n",
       "    </tr>\n",
       "    <tr>\n",
       "      <th>2</th>\n",
       "      <td>./pretrain_2048_2/SC-01-0408.svs_33.png</td>\n",
       "      <td>pretrain</td>\n",
       "      <td>0</td>\n",
       "    </tr>\n",
       "    <tr>\n",
       "      <th>3</th>\n",
       "      <td>./pretrain_2048_2/SC-01-0295.svs_17.png</td>\n",
       "      <td>pretrain</td>\n",
       "      <td>0</td>\n",
       "    </tr>\n",
       "    <tr>\n",
       "      <th>4</th>\n",
       "      <td>./pretrain_2048_2/SC-01-0286.svs_14.png</td>\n",
       "      <td>pretrain</td>\n",
       "      <td>0</td>\n",
       "    </tr>\n",
       "    <tr>\n",
       "      <th>...</th>\n",
       "      <td>...</td>\n",
       "      <td>...</td>\n",
       "      <td>...</td>\n",
       "    </tr>\n",
       "    <tr>\n",
       "      <th>11054</th>\n",
       "      <td>./pretrain_2048_2/SC-01-0230.svs_1.png</td>\n",
       "      <td>pretrain</td>\n",
       "      <td>0</td>\n",
       "    </tr>\n",
       "    <tr>\n",
       "      <th>11055</th>\n",
       "      <td>./pretrain_2048_2/SC-01-0204.svs_2.png</td>\n",
       "      <td>pretrain</td>\n",
       "      <td>0</td>\n",
       "    </tr>\n",
       "    <tr>\n",
       "      <th>11056</th>\n",
       "      <td>./pretrain_2048_2/SC-01-0283.svs_2.png</td>\n",
       "      <td>pretrain</td>\n",
       "      <td>0</td>\n",
       "    </tr>\n",
       "    <tr>\n",
       "      <th>11057</th>\n",
       "      <td>./pretrain_2048_2/SC-01-0553.svs_4.png</td>\n",
       "      <td>pretrain</td>\n",
       "      <td>0</td>\n",
       "    </tr>\n",
       "    <tr>\n",
       "      <th>11058</th>\n",
       "      <td>./pretrain_2048_2/SC-01-0168.svs_15.png</td>\n",
       "      <td>pretrain</td>\n",
       "      <td>0</td>\n",
       "    </tr>\n",
       "  </tbody>\n",
       "</table>\n",
       "<p>11059 rows × 3 columns</p>\n",
       "</div>"
      ],
      "text/plain": [
       "                                       imgpath    labels  encoded_labels\n",
       "0      ./pretrain_2048_2/SC-01-0163.svs_15.png  pretrain               0\n",
       "1       ./pretrain_2048_2/SC-01-0359.svs_8.png  pretrain               0\n",
       "2      ./pretrain_2048_2/SC-01-0408.svs_33.png  pretrain               0\n",
       "3      ./pretrain_2048_2/SC-01-0295.svs_17.png  pretrain               0\n",
       "4      ./pretrain_2048_2/SC-01-0286.svs_14.png  pretrain               0\n",
       "...                                        ...       ...             ...\n",
       "11054   ./pretrain_2048_2/SC-01-0230.svs_1.png  pretrain               0\n",
       "11055   ./pretrain_2048_2/SC-01-0204.svs_2.png  pretrain               0\n",
       "11056   ./pretrain_2048_2/SC-01-0283.svs_2.png  pretrain               0\n",
       "11057   ./pretrain_2048_2/SC-01-0553.svs_4.png  pretrain               0\n",
       "11058  ./pretrain_2048_2/SC-01-0168.svs_15.png  pretrain               0\n",
       "\n",
       "[11059 rows x 3 columns]"
      ]
     },
     "execution_count": 21,
     "metadata": {},
     "output_type": "execute_result"
    }
   ],
   "source": [
    "df"
   ]
  },
  {
   "cell_type": "code",
   "execution_count": 22,
   "metadata": {},
   "outputs": [],
   "source": [
    "df.to_csv('./pretrain_df.csv')"
   ]
  },
  {
   "cell_type": "code",
   "execution_count": null,
   "metadata": {},
   "outputs": [],
   "source": [
    "df.drop(df[df['labels'] == 'other_CA'].index, inplace = True)\n",
    "df1 = df[df['labels'] == 'PD']\n",
    "df2 = df[df['labels'] == 'WMD']\n",
    "# alpha, df = train_test_split(df, train_size = 0.1, random_state = 42)\n",
    "# train_df1 = pd.concat([df, alpha], axis = 0)\n",
    "# train_df1 = train_df1.sample(frac = 1).reset_index(drop = True)"
   ]
  },
  {
   "cell_type": "code",
   "execution_count": null,
   "metadata": {},
   "outputs": [],
   "source": [
    "df2_sample = df2.sample(n = len(df1))\n",
    "df2_sample"
   ]
  },
  {
   "cell_type": "code",
   "execution_count": null,
   "metadata": {},
   "outputs": [],
   "source": [
    "df = pd.concat([df1, df2_sample])\n",
    "df = df.sample(frac = 1).reset_index(drop = True)"
   ]
  },
  {
   "cell_type": "code",
   "execution_count": null,
   "metadata": {},
   "outputs": [],
   "source": [
    "df"
   ]
  },
  {
   "cell_type": "code",
   "execution_count": null,
   "metadata": {},
   "outputs": [],
   "source": [
    "\n"
   ]
  },
  {
   "cell_type": "code",
   "execution_count": null,
   "metadata": {},
   "outputs": [],
   "source": [
    "train_df"
   ]
  },
  {
   "cell_type": "code",
   "execution_count": null,
   "metadata": {},
   "outputs": [],
   "source": [
    "print(train_df.head(20))"
   ]
  },
  {
   "cell_type": "code",
   "execution_count": null,
   "metadata": {},
   "outputs": [],
   "source": [
    "train_df.to_csv('./train2_df.csv')\n",
    "val_df.to_csv('./val2_df.csv')\n",
    "test_df.to_csv('./test2_df.csv')"
   ]
  },
  {
   "cell_type": "code",
   "execution_count": null,
   "metadata": {},
   "outputs": [],
   "source": []
  },
  {
   "cell_type": "code",
   "execution_count": null,
   "metadata": {},
   "outputs": [],
   "source": [
    "import pandas as pd\n",
    "\n",
    "train = pd.read_csv('./train2_df.csv')\n",
    "val = pd.read_csv('./val2_df.csv')\n",
    "test = pd.read_csv('./test2_df.csv')\n",
    "\n",
    "print('train count : ', len(train))\n",
    "print('val count : ', len(val))\n",
    "print('test count : ', len(test))"
   ]
  },
  {
   "cell_type": "code",
   "execution_count": null,
   "metadata": {},
   "outputs": [],
   "source": [
    "print(len(test[test['labels'] == 'pd']))"
   ]
  },
  {
   "cell_type": "code",
   "execution_count": null,
   "metadata": {},
   "outputs": [],
   "source": [
    "print(len(test[test['labels'] == 'wmd']))"
   ]
  },
  {
   "cell_type": "code",
   "execution_count": null,
   "metadata": {},
   "outputs": [],
   "source": [
    "print(len(train[train['labels'] == 'pd']))"
   ]
  },
  {
   "cell_type": "code",
   "execution_count": null,
   "metadata": {},
   "outputs": [],
   "source": [
    "print(len(train[train['labels'] == 'wmd']))"
   ]
  },
  {
   "cell_type": "code",
   "execution_count": null,
   "metadata": {},
   "outputs": [],
   "source": []
  }
 ],
 "metadata": {
  "kernelspec": {
   "display_name": "hyunjoong",
   "language": "python",
   "name": "python3"
  },
  "language_info": {
   "codemirror_mode": {
    "name": "ipython",
    "version": 3
   },
   "file_extension": ".py",
   "mimetype": "text/x-python",
   "name": "python",
   "nbconvert_exporter": "python",
   "pygments_lexer": "ipython3",
   "version": "3.8.16"
  },
  "orig_nbformat": 4
 },
 "nbformat": 4,
 "nbformat_minor": 2
}
